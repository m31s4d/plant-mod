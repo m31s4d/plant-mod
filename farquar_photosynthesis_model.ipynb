{
 "cells": [
  {
   "cell_type": "markdown",
   "metadata": {},
   "source": [
    "**Implementation of Farquhar Photosynthesis Model in Python"
   ]
  },
  {
   "cell_type": "markdown",
   "metadata": {},
   "source": [
    "This is a Jupyter Test:"
   ]
  },
  {
   "cell_type": "code",
   "execution_count": 5,
   "metadata": {},
   "outputs": [
    {
     "name": "stdout",
     "output_type": "stream",
     "text": [
      "429981696\n",
      "429981696\n"
     ]
    }
   ],
   "source": [
    "def squaring(itera, number):\n",
    "    square = number\n",
    "    for i in range (itera):\n",
    "        square = square * square\n",
    "    return (square)\n",
    "\n",
    "for i in range(2):\n",
    "    print_out = squaring(3, 12)\n",
    "    print(print_out)"
   ]
  },
  {
   "cell_type": "markdown",
   "metadata": {},
   "source": [
    "Reference implementation by Colorado State University of the Model:"
   ]
  },
  {
   "cell_type": "code",
   "execution_count": 2,
   "metadata": {},
   "outputs": [
    {
     "ename": "SyntaxError",
     "evalue": "invalid syntax (<ipython-input-2-1ca0259ae420>, line 1)",
     "output_type": "error",
     "traceback": [
      "\u001b[1;36m  File \u001b[1;32m\"<ipython-input-2-1ca0259ae420>\"\u001b[1;36m, line \u001b[1;32m1\u001b[0m\n\u001b[1;33m    farquhar <- function(V.max=50, J.max=100, APAR=500, c.i=30, temp.C=25) {\u001b[0m\n\u001b[1;37m                                                                           ^\u001b[0m\n\u001b[1;31mSyntaxError\u001b[0m\u001b[1;31m:\u001b[0m invalid syntax\n"
     ]
    }
   ],
   "source": [
    "farquhar <- function(V.max=50, J.max=100, APAR=500, c.i=30, temp.C=25) {\n",
    "\n",
    "# Model inputs:\n",
    "  # V.max = maximum rubisco-limited rate in micromoles per (m^2 sec)\n",
    "  # J.max = maximum light-limited rate in micromoles per (m^2 sec)\n",
    "  # APAR = absorbed photosynthetically-active radiation in micromoles per (m^2 sec)\n",
    "  # c.i = intercellular CO2 partial pressure in Pascals (roughly ppm/10)\n",
    "  # temp.C = leaf temperature (Celsius)\n",
    "\n",
    "# Return value = net carbon assimilation (micromoles CO2 per m^2 of leaf area per second)\n",
    "\n",
    "# Some local parameters we need (adjusted for temperature according to Collatz 91)\n",
    "p.sfc <- 101325  # surface air pressure (Pascals)\n",
    "O.i <- 0.209 * p.sfc  # oxygen partial pressure in chloroplast\n",
    "\n",
    "# Adjust some parameters for temperature according to Collatz et al (1991) Table A1\n",
    "tau <- 2600 * 0.57^((temp.C - 25)/10) # CO2/O2 specificity ratio for rubisco\n",
    "gamma <- O.i / (2 *tau) # CO2 compensation point (Pascals, Collatz A3)\n",
    "K.c <- 30 * 2.1^((temp.C - 25)/10)  # Michaelis constant for carboxylation (Pascals)\n",
    "K.o <- 30000 * 1.2^((temp.C - 25)/10)  # Michaelis constant for oxidation (Pascals)\n",
    "\n",
    "# Temp-adjusted maximum carboxylation rate\n",
    "cold <- 10.\n",
    "hot <- 40.\n",
    "slope.cold <- .25\n",
    "slope.heat <- .4\n",
    "cold.inhibition <- 1 + exp(slope.cold*(cold - temp.C))\n",
    "heat.inhibition <- 1 + exp(slope.heat*(temp.C - hot))\n",
    "V.m <- V.max * 2.1 ^ ((temp.C-25)/10) /\n",
    "       (cold.inhibition * heat.inhibition)\n",
    "\n",
    "# Temp-adjusted leaf respiration\n",
    "R.d <- 0.015 * V.m * 2.4 ^ ((temp.C-25)/10) / \n",
    "       (1. + exp((1.3*(temp.C - 55))))\n",
    "\n",
    "# Solution of quadratic (Bonan 17.8)\n",
    "a <- 0.7\n",
    "b <- -(J.max + 0.385 * APAR)\n",
    "c <- 0.385 * J.max * APAR\n",
    "J.1 <- (-b + sqrt(b^2 - 4 * a * c) ) / (2 * a)\n",
    "J.2 <- (-b - sqrt(b^2 - 4 * a * c) ) / (2 * a)\n",
    "J <- min(J.1, J.2) \n",
    "\n",
    "# Rubisco-limited rate of photosynthesis\n",
    "w.c <- V.m * (c.i - gamma) / (c.i + K.c * (1 + O.i/K.o))  # Collatz A5 or Bonan 17.6\n",
    "\n",
    "# Light-limited rate of photosynthesis\n",
    "w.j <- J * (c.i - gamma) / (4 * (c.i + 2 * gamma)) # Bonan 17.7 or Collatz A2\n",
    "\n",
    "# Sink-limited rate of photosynthesis     # Collatz A7\n",
    "w.s <- V.m / 2\n",
    "\n",
    "# Net assimilation \n",
    "A.n <- min(w.c, w.j, w.s)-R.d\n",
    "\n",
    "return(A.n)\n",
    "}"
   ]
  },
  {
   "cell_type": "code",
   "execution_count": null,
   "metadata": {},
   "outputs": [],
   "source": [
    "def farquar(v_max = 50, j_max = 100, apar = 500, c_pressure = 30, temp_c = 25):\n",
    "    "
   ]
  }
 ],
 "metadata": {
  "kernelspec": {
   "display_name": "Python 3",
   "language": "python",
   "name": "python3"
  },
  "language_info": {
   "codemirror_mode": {
    "name": "ipython",
    "version": 3
   },
   "file_extension": ".py",
   "mimetype": "text/x-python",
   "name": "python",
   "nbconvert_exporter": "python",
   "pygments_lexer": "ipython3",
   "version": "3.7.3"
  }
 },
 "nbformat": 4,
 "nbformat_minor": 4
}
