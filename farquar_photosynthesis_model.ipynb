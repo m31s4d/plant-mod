{
 "cells": [
  {
   "cell_type": "markdown",
   "metadata": {},
   "source": [
    "**Implementation of Farquhar Photosynthesis Model in Python"
   ]
  },
  {
   "cell_type": "markdown",
   "metadata": {},
   "source": [
    "# This is a Jupyter Test:"
   ]
  },
  {
   "cell_type": "code",
   "execution_count": 1,
   "metadata": {},
   "outputs": [
    {
     "name": "stdout",
     "output_type": "stream",
     "text": [
      "429981696\n",
      "429981696\n"
     ]
    }
   ],
   "source": [
    "def squaring(itera, number):\n",
    "    square = number\n",
    "    for i in range (itera):\n",
    "        square = square * square\n",
    "    return (square)\n",
    "\n",
    "for i in range(2):\n",
    "    print_out = squaring(3, 12)\n",
    "    print(print_out)"
   ]
  },
  {
   "cell_type": "markdown",
   "metadata": {},
   "source": [
    "# Reference implementation by Colorado State University of the Model:"
   ]
  },
  {
   "cell_type": "markdown",
   "metadata": {},
   "source": [
    "farquhar <- function(V.max=50, J.max=100, APAR=500, c.i=30, temp.C=25) {\n",
    "\n",
    "Model inputs:\n",
    "  V.max = maximum rubisco-limited rate in micromoles per (m^2 sec)\n",
    "  J.max = maximum light-limited rate in micromoles per (m^2 sec)\n",
    "  APAR = absorbed photosynthetically-active radiation in micromoles per (m^2 sec)\n",
    "  c.i = intercellular CO2 partial pressure in Pascals (roughly ppm/10)\n",
    "  temp.C = leaf temperature (Celsius)\n",
    "\n",
    "Return value = net carbon assimilation (micromoles CO2 per m^2 of leaf area per second)\n",
    "\n",
    "Some local parameters we need (adjusted for temperature according to Collatz 91)\n",
    "p.sfc <- 101325  # surface air pressure (Pascals)\n",
    "O.i <- 0.209 * p.sfc  # oxygen partial pressure in chloroplast\n",
    "\n",
    "# Adjust some parameters for temperature according to Collatz et al (1991) Table A1\n",
    "tau <- 2600 * 0.57^((temp.C - 25)/10) # CO2/O2 specificity ratio for rubisco\n",
    "gamma <- O.i / (2 *tau) # CO2 compensation point (Pascals, Collatz A3)\n",
    "K.c <- 30 * 2.1^((temp.C - 25)/10)  # Michaelis constant for carboxylation (Pascals)\n",
    "K.o <- 30000 * 1.2^((temp.C - 25)/10)  # Michaelis constant for oxidation (Pascals)\n",
    "\n",
    "# Temp-adjusted maximum carboxylation rate\n",
    "cold <- 10.\n",
    "hot <- 40.\n",
    "slope.cold <- .25\n",
    "slope.heat <- .4\n",
    "cold.inhibition <- 1 + exp(slope.cold*(cold - temp.C))\n",
    "heat.inhibition <- 1 + exp(slope.heat*(temp.C - hot))\n",
    "V.m <- V.max * 2.1 ^ ((temp.C-25)/10) /\n",
    "       (cold.inhibition * heat.inhibition)\n",
    "\n",
    "# Temp-adjusted leaf respiration\n",
    "R.d <- 0.015 * V.m * 2.4 ^ ((temp.C-25)/10) / \n",
    "       (1. + exp((1.3*(temp.C - 55))))\n",
    "\n",
    "# Solution of quadratic (Bonan 17.8)\n",
    "a <- 0.7\n",
    "b <- -(J.max + 0.385 * APAR)\n",
    "c <- 0.385 * J.max * APAR\n",
    "J.1 <- (-b + sqrt(b^2 - 4 * a * c) ) / (2 * a)\n",
    "J.2 <- (-b - sqrt(b^2 - 4 * a * c) ) / (2 * a)\n",
    "J <- min(J.1, J.2) \n",
    "\n",
    "# Rubisco-limited rate of photosynthesis\n",
    "w.c <- V.m * (c.i - gamma) / (c.i + K.c * (1 + O.i/K.o))  # Collatz A5 or Bonan 17.6\n",
    "\n",
    "# Light-limited rate of photosynthesis\n",
    "w.j <- J * (c.i - gamma) / (4 * (c.i + 2 * gamma)) # Bonan 17.7 or Collatz A2\n",
    "\n",
    "# Sink-limited rate of photosynthesis     # Collatz A7\n",
    "w.s <- V.m / 2\n",
    "\n",
    "# Net assimilation \n",
    "A.n <- min(w.c, w.j, w.s)-R.d\n",
    "\n",
    "return(A.n)\n",
    "}"
   ]
  },
  {
   "cell_type": "markdown",
   "metadata": {},
   "source": [
    "Creation of a function to determine leaf respiration"
   ]
  },
  {
   "cell_type": "code",
   "execution_count": 36,
   "metadata": {},
   "outputs": [],
   "source": [
    "import math\n",
    "def leaf_respiration(v_max = 50, leaf_temp = 25):\n",
    "    step_1 = 0.015 * (v_max * 2.4)\n",
    "    step_2 = (step_1) ** ((leaf_temp - 25)/10) / (1 + math.exp((1.3*(leaf_temp - 55))))\n",
    "    return(step_2)"
   ]
  },
  {
   "cell_type": "code",
   "execution_count": 37,
   "metadata": {},
   "outputs": [
    {
     "data": {
      "text/plain": [
       "1.1247461131420946"
      ]
     },
     "execution_count": 37,
     "metadata": {},
     "output_type": "execute_result"
    }
   ],
   "source": [
    "leaf_respiration(50, 27)"
   ]
  },
  {
   "cell_type": "markdown",
   "metadata": {},
   "source": [
    "# Definition of functions to keep heat and cold inhibition in mind"
   ]
  },
  {
   "cell_type": "code",
   "execution_count": 5,
   "metadata": {},
   "outputs": [],
   "source": [
    "import math\n",
    "def cold_inhibition(leaf_temp = 25):\n",
    "    cold_limit = 40\n",
    "    cold_slope = 0.4\n",
    "    c_inhibition = 1 + math.exp(cold_slope*(cold_limit - leaf_temp))\n",
    "    return(c_inhibition)"
   ]
  },
  {
   "cell_type": "code",
   "execution_count": 6,
   "metadata": {},
   "outputs": [
    {
     "data": {
      "text/plain": [
       "404.4287934927351"
      ]
     },
     "execution_count": 6,
     "metadata": {},
     "output_type": "execute_result"
    }
   ],
   "source": [
    "cold_inhibition(25)"
   ]
  },
  {
   "cell_type": "markdown",
   "metadata": {},
   "source": [
    "# Definition of function to calculate heat inhibition"
   ]
  },
  {
   "cell_type": "code",
   "execution_count": 7,
   "metadata": {},
   "outputs": [],
   "source": [
    "import math\n",
    "def heat_inhibition(leaf_temp = 25):\n",
    "    heat_limit = 10\n",
    "    heat_slope = 0.25\n",
    "    h_inhibition = 1 + math.exp(heat_slope*(heat_limit - leaf_temp))\n",
    "    return(h_inhibition)"
   ]
  },
  {
   "cell_type": "code",
   "execution_count": 8,
   "metadata": {},
   "outputs": [
    {
     "data": {
      "text/plain": [
       "1.0067379469990854"
      ]
     },
     "execution_count": 8,
     "metadata": {},
     "output_type": "execute_result"
    }
   ],
   "source": [
    "heat_inhibition(30)"
   ]
  },
  {
   "cell_type": "markdown",
   "metadata": {},
   "source": [
    "# Definition of function to calculate potential electron tranpsort during photosynthesis"
   ]
  },
  {
   "cell_type": "code",
   "execution_count": 38,
   "metadata": {},
   "outputs": [],
   "source": [
    "import math\n",
    "def pot_electron_transport(j_max = 100, apar = 500):\n",
    "    a = 0.7\n",
    "    b = (j_max + 0.385 * apar)\n",
    "    c = (0.385 * j_max * apar)\n",
    "    j_1 = (-b + math.sqrt((b**2) - 4 * a * c) ) / (2 * a)\n",
    "    j_2 = (-b - math.sqrt((b**2) - 4 * a * c) ) / (2 * a)\n",
    "    j_correct = min(j_1, j_2)\n",
    "    return (j_correct)"
   ]
  },
  {
   "cell_type": "code",
   "execution_count": 39,
   "metadata": {},
   "outputs": [
    {
     "data": {
      "text/plain": [
       "-361.73160510087"
      ]
     },
     "execution_count": 39,
     "metadata": {},
     "output_type": "execute_result"
    }
   ],
   "source": [
    "pot_electron_transport(100, 550)"
   ]
  },
  {
   "cell_type": "markdown",
   "metadata": {},
   "source": [
    "# Definition of the Farquar Photosynthesis Modell Function in Python:"
   ]
  },
  {
   "cell_type": "code",
   "execution_count": 40,
   "metadata": {},
   "outputs": [],
   "source": [
    "def farquar(v_max = 50, j_max = 100, apar = 500, c_pressure = 30, leaf_temp = 25, surface_pressure = 101325):\n",
    "    # Some local parameters we need (adjusted for temperature according to Collatz 91)\n",
    "    partial_oxy_pressure = 0.209 * surface_pressure  # oxygen partial pressure in chloroplast\n",
    "    \n",
    "    # Adjust some parameters for temperature according to Collatz et al (1991) Table A1\n",
    "    tau = 2600 * (0.57**((leaf_temp - 25)/10)) # CO2/O2 specificity ratio for rubisco\n",
    "    gamma = partial_oxy_pressure / (2 *tau) # CO2 compensation point (Pascals, Collatz A3)\n",
    "    michaelis_con_carbox = 30 * (2.1**((leaf_temp - 25)/10))  # Michaelis constant for carboxylation (Pascals)\n",
    "    michaelis_con_oxy = 30000 * (1.2**((leaf_temp - 25)/10))  # Michaelis constant for oxidation (Pascals)\n",
    "\n",
    "    # Solution of quadratic potential electron transport (Bonan 17.8)\n",
    "    pot_electron_transport(j_max, apar)\n",
    "    \n",
    "    # Solution of maximum rate of carboxylation\n",
    "    v_max_carbox = v_max * (2.1 ** ((leaf_temp - 25)/10) / (cold_inhibition(leaf_temp) * heat_inhibition(leaf_temp)))\n",
    "\n",
    "    # Rubisco-limited rate of photosynthesis\n",
    "    rubi_limited_w = v_max_carbox * ((c_pressure - gamma) / (c_pressure + michaelis_con_carbox * (1 + partial_oxy_pressure/michaelis_con_oxy)))  # Collatz A5 or Bonan 17.6\n",
    "\n",
    "    # Light-limited rate of photosynthesis\n",
    "    light_limited_w = pot_electron_transport(j_max, apar) * ((c_pressure - gamma) / (4 * (c_pressure + 2 * gamma))) # Bonan 17.7 or Collatz A2\n",
    "\n",
    "    # Sink-limited rate of photosynthesis     # Collatz A7\n",
    "    sink_limited_w = v_max_carbox / 2\n",
    "\n",
    "    # Net assimilation \n",
    "    net_assim = (min(rubi_limited_w, light_limited_w, sink_limited_w)) - leaf_respiration(leaf_temp)\n",
    "    \n",
    "    return(net_assim)"
   ]
  },
  {
   "cell_type": "code",
   "execution_count": 42,
   "metadata": {},
   "outputs": [
    {
     "data": {
      "text/plain": [
       "-58.098305721256125"
      ]
     },
     "execution_count": 42,
     "metadata": {},
     "output_type": "execute_result"
    }
   ],
   "source": [
    "farquar(50, 100, 500, 30, 25, 101325)"
   ]
  },
  {
   "cell_type": "code",
   "execution_count": null,
   "metadata": {},
   "outputs": [],
   "source": []
  }
 ],
 "metadata": {
  "kernelspec": {
   "display_name": "Python 3",
   "language": "python",
   "name": "python3"
  },
  "language_info": {
   "codemirror_mode": {
    "name": "ipython",
    "version": 3
   },
   "file_extension": ".py",
   "mimetype": "text/x-python",
   "name": "python",
   "nbconvert_exporter": "python",
   "pygments_lexer": "ipython3",
   "version": "3.7.3"
  }
 },
 "nbformat": 4,
 "nbformat_minor": 4
}
